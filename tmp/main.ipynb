{
 "cells": [
  {
   "cell_type": "code",
   "execution_count": null,
   "id": "992fa143",
   "metadata": {},
   "outputs": [],
   "source": []
  },
  {
   "cell_type": "code",
   "execution_count": null,
   "id": "c93cfcde",
   "metadata": {},
   "outputs": [],
   "source": [
    "dataset_name = 'CA'\n",
    "\n",
    "os.makedirs(f\"results/{dataset_name}\", exist_ok=True)\n",
    "\n",
    "# Load dataset and parameters\n",
    "df, numeric_features, threshold = load_dataset(dataset_name)\n",
    "print(df.head(1))\n",
    "\n",
    "# Create graph\n",
    "G = create_graph_from_dataframe(df, numeric_features, distance_threshold=threshold)\n",
    "\n",
    "# Run experiments\n",
    "results = run_experiments(df, G, dataset_name)\n",
    "print(results)"
   ]
  },
  {
   "cell_type": "code",
   "execution_count": null,
   "id": "85a1b96a",
   "metadata": {},
   "outputs": [],
   "source": [
    "import os\n",
    "import argparse\n",
    "from utils_embeddings import load_dataset, create_graph_from_dataframe, run_experiments\n",
    "\n",
    "import pandas as pd\n",
    "import numpy as np\n",
    "import networkx as nx\n",
    "from tqdm import tqdm\n",
    "from sklearn.preprocessing import StandardScaler\n",
    "from sklearn.model_selection import train_test_split\n",
    "from sklearn.ensemble import GradientBoostingRegressor, RandomForestRegressor\n",
    "from sklearn.linear_model import LinearRegression\n",
    "from sklearn.metrics import r2_score, mean_absolute_percentage_error, mean_squared_error\n",
    "import matplotlib.pyplot as plt\n",
    "import os\n",
    "from scipy.spatial import cKDTree\n",
    "\n",
    "# import embedding functions\n",
    "from embeddings_utils import *\n",
    "from utils_embeddings import *"
   ]
  },
  {
   "cell_type": "code",
   "execution_count": null,
   "id": "90cac43b",
   "metadata": {},
   "outputs": [],
   "source": [
    "# print(df.shape)\n",
    "results = []\n",
    "\n",
    "# -------------------\n",
    "# Baseline (raw features)\n",
    "# -------------------\n",
    "X_base = df.drop(['price', 'id'], axis=1)\n",
    "y = df['price']\n",
    "X_train_base, X_test_base, y_train, y_test = train_test_split(X_base, y, test_size=0.1, random_state=42)\n",
    "X_train_base.shape, X_test_base.shape, y_train.shape, y_test.shape"
   ]
  },
  {
   "cell_type": "code",
   "execution_count": null,
   "id": "134ad4f9",
   "metadata": {},
   "outputs": [],
   "source": [
    "for model_name, model in [\n",
    "    (\"GradientBoosting\", GradientBoostingRegressor(random_state=42)),\n",
    "    (\"LinearRegression\", LinearRegression()),\n",
    "    (\"RandomForest\", RandomForestRegressor(random_state=42))\n",
    "]:\n",
    "    metrics = fit_and_evaluate(model, X_train_base, y_train, X_test_base, y_test, verbose=False)\n",
    "    results.append([f\"{model_name} (Raw)\", *metrics])"
   ]
  },
  {
   "cell_type": "code",
   "execution_count": null,
   "id": "b43c71a8",
   "metadata": {},
   "outputs": [],
   "source": [
    "results"
   ]
  },
  {
   "cell_type": "code",
   "execution_count": null,
   "id": "46a7e2a8",
   "metadata": {},
   "outputs": [],
   "source": [
    "%%time\n",
    "%run main_hpp.py --dataset CA\n",
    "# python main_hpp.py --dataset MHD\n"
   ]
  }
 ],
 "metadata": {
  "kernelspec": {
   "display_name": "pth",
   "language": "python",
   "name": "python3"
  },
  "language_info": {
   "codemirror_mode": {
    "name": "ipython",
    "version": 3
   },
   "file_extension": ".py",
   "mimetype": "text/x-python",
   "name": "python",
   "nbconvert_exporter": "python",
   "pygments_lexer": "ipython3",
   "version": "3.10.14"
  }
 },
 "nbformat": 4,
 "nbformat_minor": 5
}
