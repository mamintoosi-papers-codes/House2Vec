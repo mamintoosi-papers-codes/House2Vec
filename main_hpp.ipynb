{
 "cells": [
  {
   "cell_type": "code",
   "execution_count": 1,
   "id": "6e4f4155",
   "metadata": {},
   "outputs": [],
   "source": [
    "# !pip install csrgraph"
   ]
  },
  {
   "cell_type": "code",
   "execution_count": 2,
   "id": "1fb32c93",
   "metadata": {},
   "outputs": [],
   "source": [
    "import pandas as pd\n",
    "import matplotlib.pyplot as plt\n",
    "from utils import load_dataset, create_graph_from_dataframe, fit_and_evaluate, grid_search_embedding_size\n",
    "from sklearn.ensemble import GradientBoostingRegressor, RandomForestRegressor\n",
    "from sklearn.linear_model import LinearRegression\n",
    "from sklearn.model_selection import train_test_split\n",
    "\n",
    "# انتخاب مجموعه داده\n",
    "dataset_name = \"CA\"   # یا \"MHD\"\n",
    "embedding_sizes = [2,5] # [8, 16, 32, 64]\n"
   ]
  },
  {
   "cell_type": "code",
   "execution_count": 3,
   "id": "b37609a1",
   "metadata": {},
   "outputs": [
    {
     "name": "stderr",
     "output_type": "stream",
     "text": [
      "Building graph: 100%|██████████| 534477/534477 [00:12<00:00, 43110.28it/s]\n"
     ]
    },
    {
     "name": "stdout",
     "output_type": "stream",
     "text": [
      "Dataset CA: 20433 samples, 20433 nodes, 534477 edges\n"
     ]
    },
    {
     "data": {
      "text/html": [
       "<div>\n",
       "<style scoped>\n",
       "    .dataframe tbody tr th:only-of-type {\n",
       "        vertical-align: middle;\n",
       "    }\n",
       "\n",
       "    .dataframe tbody tr th {\n",
       "        vertical-align: top;\n",
       "    }\n",
       "\n",
       "    .dataframe thead th {\n",
       "        text-align: right;\n",
       "    }\n",
       "</style>\n",
       "<table border=\"1\" class=\"dataframe\">\n",
       "  <thead>\n",
       "    <tr style=\"text-align: right;\">\n",
       "      <th></th>\n",
       "      <th>longitude</th>\n",
       "      <th>latitude</th>\n",
       "      <th>housing_median_age</th>\n",
       "      <th>total_rooms</th>\n",
       "      <th>total_bedrooms</th>\n",
       "      <th>population</th>\n",
       "      <th>households</th>\n",
       "      <th>median_income</th>\n",
       "      <th>price</th>\n",
       "      <th>ocean_proximity_INLAND</th>\n",
       "      <th>ocean_proximity_ISLAND</th>\n",
       "      <th>ocean_proximity_NEAR BAY</th>\n",
       "      <th>ocean_proximity_NEAR OCEAN</th>\n",
       "      <th>id</th>\n",
       "    </tr>\n",
       "  </thead>\n",
       "  <tbody>\n",
       "    <tr>\n",
       "      <th>0</th>\n",
       "      <td>-122.23</td>\n",
       "      <td>37.88</td>\n",
       "      <td>0.982163</td>\n",
       "      <td>-0.803813</td>\n",
       "      <td>-0.970325</td>\n",
       "      <td>-0.973320</td>\n",
       "      <td>-0.976833</td>\n",
       "      <td>2.345163</td>\n",
       "      <td>452600</td>\n",
       "      <td>False</td>\n",
       "      <td>False</td>\n",
       "      <td>True</td>\n",
       "      <td>False</td>\n",
       "      <td>0</td>\n",
       "    </tr>\n",
       "    <tr>\n",
       "      <th>1</th>\n",
       "      <td>-122.22</td>\n",
       "      <td>37.86</td>\n",
       "      <td>-0.606210</td>\n",
       "      <td>2.042130</td>\n",
       "      <td>1.348276</td>\n",
       "      <td>0.861339</td>\n",
       "      <td>1.670373</td>\n",
       "      <td>2.332632</td>\n",
       "      <td>358500</td>\n",
       "      <td>False</td>\n",
       "      <td>False</td>\n",
       "      <td>True</td>\n",
       "      <td>False</td>\n",
       "      <td>1</td>\n",
       "    </tr>\n",
       "    <tr>\n",
       "      <th>2</th>\n",
       "      <td>-122.24</td>\n",
       "      <td>37.85</td>\n",
       "      <td>1.855769</td>\n",
       "      <td>-0.535189</td>\n",
       "      <td>-0.825561</td>\n",
       "      <td>-0.819769</td>\n",
       "      <td>-0.843427</td>\n",
       "      <td>1.782939</td>\n",
       "      <td>352100</td>\n",
       "      <td>False</td>\n",
       "      <td>False</td>\n",
       "      <td>True</td>\n",
       "      <td>False</td>\n",
       "      <td>2</td>\n",
       "    </tr>\n",
       "    <tr>\n",
       "      <th>3</th>\n",
       "      <td>-122.25</td>\n",
       "      <td>37.85</td>\n",
       "      <td>1.855769</td>\n",
       "      <td>-0.623510</td>\n",
       "      <td>-0.718768</td>\n",
       "      <td>-0.765056</td>\n",
       "      <td>-0.733562</td>\n",
       "      <td>0.932970</td>\n",
       "      <td>341300</td>\n",
       "      <td>False</td>\n",
       "      <td>False</td>\n",
       "      <td>True</td>\n",
       "      <td>False</td>\n",
       "      <td>3</td>\n",
       "    </tr>\n",
       "    <tr>\n",
       "      <th>4</th>\n",
       "      <td>-122.25</td>\n",
       "      <td>37.85</td>\n",
       "      <td>1.855769</td>\n",
       "      <td>-0.461970</td>\n",
       "      <td>-0.611974</td>\n",
       "      <td>-0.758879</td>\n",
       "      <td>-0.628930</td>\n",
       "      <td>-0.013143</td>\n",
       "      <td>342200</td>\n",
       "      <td>False</td>\n",
       "      <td>False</td>\n",
       "      <td>True</td>\n",
       "      <td>False</td>\n",
       "      <td>4</td>\n",
       "    </tr>\n",
       "  </tbody>\n",
       "</table>\n",
       "</div>"
      ],
      "text/plain": [
       "   longitude  latitude  housing_median_age  total_rooms  total_bedrooms  \\\n",
       "0    -122.23     37.88            0.982163    -0.803813       -0.970325   \n",
       "1    -122.22     37.86           -0.606210     2.042130        1.348276   \n",
       "2    -122.24     37.85            1.855769    -0.535189       -0.825561   \n",
       "3    -122.25     37.85            1.855769    -0.623510       -0.718768   \n",
       "4    -122.25     37.85            1.855769    -0.461970       -0.611974   \n",
       "\n",
       "   population  households  median_income   price  ocean_proximity_INLAND  \\\n",
       "0   -0.973320   -0.976833       2.345163  452600                   False   \n",
       "1    0.861339    1.670373       2.332632  358500                   False   \n",
       "2   -0.819769   -0.843427       1.782939  352100                   False   \n",
       "3   -0.765056   -0.733562       0.932970  341300                   False   \n",
       "4   -0.758879   -0.628930      -0.013143  342200                   False   \n",
       "\n",
       "   ocean_proximity_ISLAND  ocean_proximity_NEAR BAY  \\\n",
       "0                   False                      True   \n",
       "1                   False                      True   \n",
       "2                   False                      True   \n",
       "3                   False                      True   \n",
       "4                   False                      True   \n",
       "\n",
       "   ocean_proximity_NEAR OCEAN  id  \n",
       "0                       False   0  \n",
       "1                       False   1  \n",
       "2                       False   2  \n",
       "3                       False   3  \n",
       "4                       False   4  "
      ]
     },
     "execution_count": 3,
     "metadata": {},
     "output_type": "execute_result"
    }
   ],
   "source": [
    "df, numeric_features, threshold = load_dataset(dataset_name)\n",
    "G = create_graph_from_dataframe(df, numeric_features, threshold)\n",
    "\n",
    "print(f\"Dataset {dataset_name}: {df.shape[0]} samples, {G.number_of_nodes()} nodes, {G.number_of_edges()} edges\")\n",
    "df.head()\n"
   ]
  },
  {
   "cell_type": "code",
   "execution_count": 4,
   "id": "80f72d16",
   "metadata": {},
   "outputs": [
    {
     "name": "stdout",
     "output_type": "stream",
     "text": [
      "R2: 0.787, MAPE: 0.211, RMSE: 54214.653, Acc: 0.607\n",
      "R2: 0.662, MAPE: 0.287, RMSE: 68215.591, Acc: 0.473\n",
      "R2: 0.838, MAPE: 0.166, RMSE: 47200.554, Acc: 0.727\n"
     ]
    }
   ],
   "source": [
    "X_base = df.drop(['price', 'id'], axis=1)\n",
    "y = df['price']\n",
    "X_train_base, X_test_base, y_train, y_test = train_test_split(X_base, y, test_size=0.1, random_state=42)\n",
    "\n",
    "results = []\n",
    "for model_name, model in [\n",
    "    (\"GradientBoosting\", GradientBoostingRegressor(random_state=42)),\n",
    "    (\"LinearRegression\", LinearRegression()),\n",
    "    (\"RandomForest\", RandomForestRegressor(random_state=42)),\n",
    "]:\n",
    "    metrics = fit_and_evaluate(model, X_train_base, y_train, X_test_base, y_test, verbose=True)\n",
    "    results.append([f\"{model_name} (Raw)\", *metrics])\n"
   ]
  },
  {
   "cell_type": "code",
   "execution_count": 5,
   "id": "f8e76943",
   "metadata": {},
   "outputs": [
    {
     "name": "stdout",
     "output_type": "stream",
     "text": [
      "[deepwalk] Evaluating embedding size: 2\n"
     ]
    },
    {
     "name": "stderr",
     "output_type": "stream",
     "text": [
      "DeepWalk Nodes: 100%|██████████| 20433/20433 [10:07<00:00, 33.66it/s] \n"
     ]
    },
    {
     "name": "stdout",
     "output_type": "stream",
     "text": [
      "[deepwalk] Evaluating embedding size: 5\n"
     ]
    },
    {
     "name": "stderr",
     "output_type": "stream",
     "text": [
      "DeepWalk Nodes: 100%|██████████| 20433/20433 [10:21<00:00, 32.86it/s] \n"
     ]
    },
    {
     "name": "stdout",
     "output_type": "stream",
     "text": [
      "[deepwalk] Best embedding size: 5 with rmse: 47738.577\n"
     ]
    },
    {
     "data": {
      "text/html": [
       "<div>\n",
       "<style scoped>\n",
       "    .dataframe tbody tr th:only-of-type {\n",
       "        vertical-align: middle;\n",
       "    }\n",
       "\n",
       "    .dataframe tbody tr th {\n",
       "        vertical-align: top;\n",
       "    }\n",
       "\n",
       "    .dataframe thead th {\n",
       "        text-align: right;\n",
       "    }\n",
       "</style>\n",
       "<table border=\"1\" class=\"dataframe\">\n",
       "  <thead>\n",
       "    <tr style=\"text-align: right;\">\n",
       "      <th></th>\n",
       "      <th>Embedding Size</th>\n",
       "      <th>rmse</th>\n",
       "    </tr>\n",
       "  </thead>\n",
       "  <tbody>\n",
       "    <tr>\n",
       "      <th>0</th>\n",
       "      <td>2</td>\n",
       "      <td>47750.951926</td>\n",
       "    </tr>\n",
       "    <tr>\n",
       "      <th>1</th>\n",
       "      <td>5</td>\n",
       "      <td>47738.576709</td>\n",
       "    </tr>\n",
       "  </tbody>\n",
       "</table>\n",
       "</div>"
      ],
      "text/plain": [
       "   Embedding Size          rmse\n",
       "0               2  47750.951926\n",
       "1               5  47738.576709"
      ]
     },
     "execution_count": 5,
     "metadata": {},
     "output_type": "execute_result"
    }
   ],
   "source": [
    "best_dw_size, X_dw, y_dw, dw_results = grid_search_embedding_size(df, G, embedding_sizes, method=\"deepwalk\", dataset_name=dataset_name)\n",
    "dw_results"
   ]
  },
  {
   "cell_type": "code",
   "execution_count": 6,
   "id": "4247f302",
   "metadata": {},
   "outputs": [
    {
     "data": {
      "image/png": "[encoded data removed]",
      "text/plain": [
       "<Figure size 640x480 with 1 Axes>"
      ]
     },
     "metadata": {},
     "output_type": "display_data"
    }
   ],
   "source": [
    "plt.plot(dw_results[\"Embedding Size\"], dw_results[\"rmse\"], marker=\"o\")\n",
    "plt.axvline(best_dw_size, color=\"r\", linestyle=\"--\", label=f\"Best={best_dw_size}\")\n",
    "plt.title(\"DeepWalk - Embedding Size vs RMSE\")\n",
    "plt.xlabel(\"Embedding Size\")\n",
    "plt.ylabel(\"RMSE\")\n",
    "plt.legend()\n",
    "plt.show()"
   ]
  },
  {
   "cell_type": "code",
   "execution_count": 7,
   "id": "90438f2d",
   "metadata": {},
   "outputs": [
    {
     "name": "stdout",
     "output_type": "stream",
     "text": [
      "[node2vec] Evaluating embedding size: 2\n"
     ]
    },
    {
     "name": "stderr",
     "output_type": "stream",
     "text": [
      "Node2Vec Walks: 100%|██████████| 80/80 [02:14<00:00,  1.68s/it]\n"
     ]
    },
    {
     "name": "stdout",
     "output_type": "stream",
     "text": [
      "[node2vec] Evaluating embedding size: 5\n"
     ]
    },
    {
     "name": "stderr",
     "output_type": "stream",
     "text": [
      "Node2Vec Walks: 100%|██████████| 80/80 [01:47<00:00,  1.34s/it]\n"
     ]
    },
    {
     "name": "stdout",
     "output_type": "stream",
     "text": [
      "[node2vec] Best embedding size: 5 with rmse: 47299.717\n"
     ]
    },
    {
     "data": {
      "text/html": [
       "<div>\n",
       "<style scoped>\n",
       "    .dataframe tbody tr th:only-of-type {\n",
       "        vertical-align: middle;\n",
       "    }\n",
       "\n",
       "    .dataframe tbody tr th {\n",
       "        vertical-align: top;\n",
       "    }\n",
       "\n",
       "    .dataframe thead th {\n",
       "        text-align: right;\n",
       "    }\n",
       "</style>\n",
       "<table border=\"1\" class=\"dataframe\">\n",
       "  <thead>\n",
       "    <tr style=\"text-align: right;\">\n",
       "      <th></th>\n",
       "      <th>Embedding Size</th>\n",
       "      <th>rmse</th>\n",
       "    </tr>\n",
       "  </thead>\n",
       "  <tbody>\n",
       "    <tr>\n",
       "      <th>0</th>\n",
       "      <td>2</td>\n",
       "      <td>47923.417361</td>\n",
       "    </tr>\n",
       "    <tr>\n",
       "      <th>1</th>\n",
       "      <td>5</td>\n",
       "      <td>47299.716566</td>\n",
       "    </tr>\n",
       "  </tbody>\n",
       "</table>\n",
       "</div>"
      ],
      "text/plain": [
       "   Embedding Size          rmse\n",
       "0               2  47923.417361\n",
       "1               5  47299.716566"
      ]
     },
     "execution_count": 7,
     "metadata": {},
     "output_type": "execute_result"
    }
   ],
   "source": [
    "best_n2v_size, X_n2v, y_n2v, n2v_results = grid_search_embedding_size(df, G, embedding_sizes, method=\"node2vec\", dataset_name=dataset_name)\n",
    "n2v_results"
   ]
  },
  {
   "cell_type": "code",
   "execution_count": 8,
   "id": "aff414d5",
   "metadata": {},
   "outputs": [
    {
     "data": {
      "image/png": "[encoded data removed]",
      "text/plain": [
       "<Figure size 640x480 with 1 Axes>"
      ]
     },
     "metadata": {},
     "output_type": "display_data"
    }
   ],
   "source": [
    "plt.plot(n2v_results[\"Embedding Size\"], n2v_results[\"rmse\"], marker=\"o\")\n",
    "plt.axvline(best_n2v_size, color=\"r\", linestyle=\"--\", label=f\"Best={best_n2v_size}\")\n",
    "plt.title(\"Node2Vec - Embedding Size vs RMSE\")\n",
    "plt.xlabel(\"Embedding Size\")\n",
    "plt.ylabel(\"RMSE\")\n",
    "plt.legend()\n",
    "plt.show()"
   ]
  },
  {
   "cell_type": "code",
   "execution_count": 9,
   "id": "1d91e4b7",
   "metadata": {},
   "outputs": [
    {
     "name": "stdout",
     "output_type": "stream",
     "text": [
      "R2: 0.786, MAPE: 0.213, RMSE: 54252.895, Acc: 0.607\n",
      "R2: 0.669, MAPE: 0.286, RMSE: 67538.333, Acc: 0.475\n",
      "R2: 0.839, MAPE: 0.167, RMSE: 47106.504, Acc: 0.735\n",
      "R2: 0.794, MAPE: 0.208, RMSE: 53351.995, Acc: 0.614\n",
      "R2: 0.668, MAPE: 0.287, RMSE: 67662.966, Acc: 0.473\n",
      "R2: 0.848, MAPE: 0.163, RMSE: 45809.797, Acc: 0.739\n"
     ]
    }
   ],
   "source": [
    "for (label, X, y) in [\n",
    "    (f\"DeepWalk-{best_dw_size}\", X_dw, y_dw),\n",
    "    (f\"Node2Vec-{best_n2v_size}\", X_n2v, y_n2v),\n",
    "]:\n",
    "    X_train, X_test, y_train, y_test = train_test_split(X, y, test_size=0.1, random_state=42)\n",
    "    for model_name, model in [\n",
    "        (\"GradientBoosting\", GradientBoostingRegressor(random_state=42)),\n",
    "        (\"LinearRegression\", LinearRegression()),\n",
    "        (\"RandomForest\", RandomForestRegressor(random_state=42)),\n",
    "    ]:\n",
    "        metrics = fit_and_evaluate(model, X_train, y_train, X_test, y_test, verbose=True)\n",
    "        results.append([f\"{model_name} ({label})\", *metrics])"
   ]
  },
  {
   "cell_type": "code",
   "execution_count": 10,
   "id": "3498c509",
   "metadata": {},
   "outputs": [],
   "source": [
    "results_df = pd.DataFrame(results, columns=[\"Model\", \"R2\", \"MAPE\", \"Accuracy\", \"RMSE\", \"MSE_log\"])\n",
    "results_df\n",
    "results_df.to_excel(f\"results/{dataset_name}/final_results_notebook.xlsx\", index=False)\n"
   ]
  }
 ],
 "metadata": {
  "kernelspec": {
   "display_name": "pth-gpu",
   "language": "python",
   "name": "python3"
  },
  "language_info": {
   "codemirror_mode": {
    "name": "ipython",
    "version": 3
   },
   "file_extension": ".py",
   "mimetype": "text/x-python",
   "name": "python",
   "nbconvert_exporter": "python",
   "pygments_lexer": "ipython3",
   "version": "3.10.16"
  }
 },
 "nbformat": 4,
 "nbformat_minor": 5
}
