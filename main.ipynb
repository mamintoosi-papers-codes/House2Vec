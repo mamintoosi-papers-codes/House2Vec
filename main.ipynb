{
 "cells": [
  {
   "cell_type": "code",
   "execution_count": null,
   "id": "992fa143",
   "metadata": {},
   "outputs": [],
   "source": []
  },
  {
   "cell_type": "code",
   "execution_count": 1,
   "id": "46a7e2a8",
   "metadata": {},
   "outputs": [
    {
     "name": "stderr",
     "output_type": "stream",
     "text": [
      "Building graph: 100%|██████████| 534477/534477 [00:14<00:00, 36911.92it/s]\n"
     ]
    },
    {
     "name": "stdout",
     "output_type": "stream",
     "text": [
      "[deepwalk] Evaluating embedding size: 2\n"
     ]
    },
    {
     "name": "stderr",
     "output_type": "stream",
     "text": [
      "DeepWalk Nodes: 100%|██████████| 20433/20433 [09:12<00:00, 36.97it/s] \n"
     ]
    },
    {
     "name": "stdout",
     "output_type": "stream",
     "text": [
      "[deepwalk] Evaluating embedding size: 5\n"
     ]
    },
    {
     "name": "stderr",
     "output_type": "stream",
     "text": [
      "DeepWalk Nodes: 100%|██████████| 20433/20433 [09:13<00:00, 36.93it/s] \n"
     ]
    },
    {
     "name": "stdout",
     "output_type": "stream",
     "text": [
      "[deepwalk] Evaluating embedding size: 10\n"
     ]
    },
    {
     "name": "stderr",
     "output_type": "stream",
     "text": [
      "DeepWalk Nodes: 100%|██████████| 20433/20433 [09:22<00:00, 36.34it/s] \n"
     ]
    },
    {
     "name": "stdout",
     "output_type": "stream",
     "text": [
      "[deepwalk] Evaluating embedding size: 20\n"
     ]
    },
    {
     "name": "stderr",
     "output_type": "stream",
     "text": [
      "DeepWalk Nodes: 100%|██████████| 20433/20433 [09:31<00:00, 35.78it/s] \n"
     ]
    },
    {
     "name": "stdout",
     "output_type": "stream",
     "text": [
      "[deepwalk] Best embedding size: 20 with rmse: 47232.022\n",
      "[node2vec] Evaluating embedding size: 2\n"
     ]
    },
    {
     "name": "stderr",
     "output_type": "stream",
     "text": [
      "Node2Vec Walks: 100%|██████████| 80/80 [02:02<00:00,  1.53s/it]\n"
     ]
    },
    {
     "name": "stdout",
     "output_type": "stream",
     "text": [
      "[node2vec] Evaluating embedding size: 5\n"
     ]
    },
    {
     "name": "stderr",
     "output_type": "stream",
     "text": [
      "Node2Vec Walks: 100%|██████████| 80/80 [01:47<00:00,  1.34s/it]\n"
     ]
    },
    {
     "name": "stdout",
     "output_type": "stream",
     "text": [
      "[node2vec] Evaluating embedding size: 10\n"
     ]
    },
    {
     "name": "stderr",
     "output_type": "stream",
     "text": [
      "Node2Vec Walks: 100%|██████████| 80/80 [01:49<00:00,  1.36s/it]\n"
     ]
    },
    {
     "name": "stdout",
     "output_type": "stream",
     "text": [
      "[node2vec] Evaluating embedding size: 20\n"
     ]
    },
    {
     "name": "stderr",
     "output_type": "stream",
     "text": [
      "Node2Vec Walks: 100%|██████████| 80/80 [01:48<00:00,  1.36s/it]\n"
     ]
    },
    {
     "name": "stdout",
     "output_type": "stream",
     "text": [
      "[node2vec] Best embedding size: 10 with rmse: 47186.491\n",
      "✅ Results saved to results/CA/final_results.xlsx\n",
      "CPU times: total: 2h 49min 28s\n",
      "Wall time: 1h 39min 24s\n"
     ]
    }
   ],
   "source": [
    "%%time\n",
    "%run main_hpp.py --dataset CA --embedding_sizes 2 5 10 20"
   ]
  },
  {
   "cell_type": "code",
   "execution_count": 1,
   "id": "35cf4386",
   "metadata": {},
   "outputs": [
    {
     "name": "stderr",
     "output_type": "stream",
     "text": [
      "Building graph: 100%|██████████| 1333688/1333688 [01:01<00:00, 21747.79it/s]\n"
     ]
    },
    {
     "name": "stdout",
     "output_type": "stream",
     "text": [
      "[deepwalk] Evaluating embedding size: 2\n"
     ]
    },
    {
     "name": "stderr",
     "output_type": "stream",
     "text": [
      "DeepWalk Nodes: 100%|██████████| 5000/5000 [08:19<00:00, 10.00it/s]\n"
     ]
    },
    {
     "name": "stdout",
     "output_type": "stream",
     "text": [
      "[deepwalk] Evaluating embedding size: 5\n"
     ]
    },
    {
     "name": "stderr",
     "output_type": "stream",
     "text": [
      "DeepWalk Nodes: 100%|██████████| 5000/5000 [08:23<00:00,  9.93it/s]\n"
     ]
    },
    {
     "name": "stdout",
     "output_type": "stream",
     "text": [
      "[deepwalk] Evaluating embedding size: 10\n"
     ]
    },
    {
     "name": "stderr",
     "output_type": "stream",
     "text": [
      "DeepWalk Nodes: 100%|██████████| 5000/5000 [08:28<00:00,  9.83it/s]\n"
     ]
    },
    {
     "name": "stdout",
     "output_type": "stream",
     "text": [
      "[deepwalk] Evaluating embedding size: 20\n"
     ]
    },
    {
     "name": "stderr",
     "output_type": "stream",
     "text": [
      "DeepWalk Nodes: 100%|██████████| 5000/5000 [08:47<00:00,  9.49it/s]\n"
     ]
    },
    {
     "name": "stdout",
     "output_type": "stream",
     "text": [
      "[deepwalk] Best embedding size: 5 with r2: 0.845\n",
      "[node2vec] Evaluating embedding size: 2\n"
     ]
    },
    {
     "name": "stderr",
     "output_type": "stream",
     "text": [
      "Node2Vec Walks: 100%|██████████| 80/80 [09:15<00:00,  6.95s/it]\n"
     ]
    },
    {
     "name": "stdout",
     "output_type": "stream",
     "text": [
      "[node2vec] Evaluating embedding size: 5\n"
     ]
    },
    {
     "name": "stderr",
     "output_type": "stream",
     "text": [
      "Node2Vec Walks: 100%|██████████| 80/80 [11:26<00:00,  8.58s/it]\n"
     ]
    },
    {
     "name": "stdout",
     "output_type": "stream",
     "text": [
      "[node2vec] Evaluating embedding size: 10\n"
     ]
    },
    {
     "name": "stderr",
     "output_type": "stream",
     "text": [
      "Node2Vec Walks: 100%|██████████| 80/80 [09:08<00:00,  6.85s/it]\n"
     ]
    },
    {
     "name": "stdout",
     "output_type": "stream",
     "text": [
      "[node2vec] Evaluating embedding size: 20\n"
     ]
    },
    {
     "name": "stderr",
     "output_type": "stream",
     "text": [
      "Node2Vec Walks: 100%|██████████| 80/80 [11:19<00:00,  8.49s/it]\n"
     ]
    },
    {
     "name": "stdout",
     "output_type": "stream",
     "text": [
      "[node2vec] Best embedding size: 10 with r2: 0.851\n",
      "✅ Results saved to results/MHD/final_results.xlsx\n",
      "CPU times: total: 3h 15min 34s\n",
      "Wall time: 1h 31min 35s\n"
     ]
    }
   ],
   "source": [
    "%%time\n",
    "%run main_hpp.py --dataset MHD --embedding_sizes 2 5 10 20"
   ]
  }
 ],
 "metadata": {
  "kernelspec": {
   "display_name": "pth-gpu",
   "language": "python",
   "name": "python3"
  },
  "language_info": {
   "codemirror_mode": {
    "name": "ipython",
    "version": 3
   },
   "file_extension": ".py",
   "mimetype": "text/x-python",
   "name": "python",
   "nbconvert_exporter": "python",
   "pygments_lexer": "ipython3",
   "version": "3.10.16"
  }
 },
 "nbformat": 4,
 "nbformat_minor": 5
}
